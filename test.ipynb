{
 "cells": [
  {
   "cell_type": "code",
   "execution_count": 1,
   "id": "1d0967c3",
   "metadata": {},
   "outputs": [
    {
     "name": "stdout",
     "output_type": "stream",
     "text": [
      "initializing bank_management\n",
      "Initializing the 'user' package.\n"
     ]
    }
   ],
   "source": [
    "from bank_management import start"
   ]
  },
  {
   "cell_type": "code",
   "execution_count": 2,
   "id": "c1cdb3a5",
   "metadata": {},
   "outputs": [
    {
     "name": "stdout",
     "output_type": "stream",
     "text": [
      "Welcome to AZYY Bank\n",
      "Welcome to be the member of this big family!\n",
      "Welcome to AZYY Bank\n",
      "admin1 Successfully login\n",
      "Not existing/Wrong name\n",
      "Not existing/Wrong name\n",
      "bye, admin\n",
      "Welcome to AZYY Bank\n",
      "Not existing\n",
      "Welcome to AZYY Bank\n"
     ]
    },
    {
     "ename": "ValueError",
     "evalue": "invalid literal for int() with base 10: ''",
     "output_type": "error",
     "traceback": [
      "\u001b[0;31m---------------------------------------------------------------------------\u001b[0m",
      "\u001b[0;31mValueError\u001b[0m                                Traceback (most recent call last)",
      "\u001b[1;32m/Users/pengyuyang/ubco_class/DATA-533/Banking-Management/test.ipynb 单元格 2\u001b[0m line \u001b[0;36m1\n\u001b[0;32m----> <a href='vscode-notebook-cell:/Users/pengyuyang/ubco_class/DATA-533/Banking-Management/test.ipynb#W1sZmlsZQ%3D%3D?line=0'>1</a>\u001b[0m start\u001b[39m.\u001b[39;49mmain()\n",
      "File \u001b[0;32m~/ubco_class/DATA-533/Banking-Management/bank_management/start.py:40\u001b[0m, in \u001b[0;36mmain\u001b[0;34m()\u001b[0m\n\u001b[1;32m     38\u001b[0m     c_new \u001b[39m=\u001b[39m new_user_registration()\n\u001b[1;32m     39\u001b[0m     clients_dict[c_new\u001b[39m.\u001b[39mname] \u001b[39m=\u001b[39m c_new\n\u001b[0;32m---> 40\u001b[0m     main()\n\u001b[1;32m     41\u001b[0m \u001b[39melif\u001b[39;00m role \u001b[39m==\u001b[39m \u001b[39m2\u001b[39m:\n\u001b[1;32m     42\u001b[0m     existing_user_login()\n",
      "File \u001b[0;32m~/ubco_class/DATA-533/Banking-Management/bank_management/start.py:45\u001b[0m, in \u001b[0;36mmain\u001b[0;34m()\u001b[0m\n\u001b[1;32m     43\u001b[0m \u001b[39melif\u001b[39;00m role \u001b[39m==\u001b[39m \u001b[39m3\u001b[39m:\n\u001b[1;32m     44\u001b[0m     admin_login(admins_dict,clients_dict)\n\u001b[0;32m---> 45\u001b[0m     main()\n\u001b[1;32m     46\u001b[0m \u001b[39melif\u001b[39;00m role \u001b[39m==\u001b[39m \u001b[39m4\u001b[39m:\n\u001b[1;32m     47\u001b[0m     investment_manager_login()\n",
      "File \u001b[0;32m~/ubco_class/DATA-533/Banking-Management/bank_management/start.py:45\u001b[0m, in \u001b[0;36mmain\u001b[0;34m()\u001b[0m\n\u001b[1;32m     43\u001b[0m \u001b[39melif\u001b[39;00m role \u001b[39m==\u001b[39m \u001b[39m3\u001b[39m:\n\u001b[1;32m     44\u001b[0m     admin_login(admins_dict,clients_dict)\n\u001b[0;32m---> 45\u001b[0m     main()\n\u001b[1;32m     46\u001b[0m \u001b[39melif\u001b[39;00m role \u001b[39m==\u001b[39m \u001b[39m4\u001b[39m:\n\u001b[1;32m     47\u001b[0m     investment_manager_login()\n",
      "File \u001b[0;32m~/ubco_class/DATA-533/Banking-Management/bank_management/start.py:35\u001b[0m, in \u001b[0;36mmain\u001b[0;34m()\u001b[0m\n\u001b[1;32m     33\u001b[0m admins_dict \u001b[39m=\u001b[39m admins_initialization()\n\u001b[1;32m     34\u001b[0m \u001b[39mprint\u001b[39m(\u001b[39m\"\u001b[39m\u001b[39mWelcome to AZYY Bank\u001b[39m\u001b[39m\"\u001b[39m)\n\u001b[0;32m---> 35\u001b[0m role \u001b[39m=\u001b[39m \u001b[39mint\u001b[39;49m(\u001b[39minput\u001b[39;49m(\u001b[39m\"\u001b[39;49m\u001b[39mPlz choose your role:\u001b[39;49m\u001b[39m\\n\u001b[39;49;00m\u001b[39m1. I\u001b[39;49m\u001b[39m'\u001b[39;49m\u001b[39mm new to open account,2. Existing client,3. Admin,4. Investment Manager,5. Quit\u001b[39;49m\u001b[39m\\n\u001b[39;49;00m\u001b[39m\"\u001b[39;49m))\n\u001b[1;32m     37\u001b[0m \u001b[39mif\u001b[39;00m role \u001b[39m==\u001b[39m \u001b[39m1\u001b[39m:\n\u001b[1;32m     38\u001b[0m     c_new \u001b[39m=\u001b[39m new_user_registration()\n",
      "\u001b[0;31mValueError\u001b[0m: invalid literal for int() with base 10: ''"
     ]
    }
   ],
   "source": [
    "start.main()\n"
   ]
  },
  {
   "cell_type": "code",
   "execution_count": null,
   "id": "77451c29",
   "metadata": {},
   "outputs": [],
   "source": []
  }
 ],
 "metadata": {
  "kernelspec": {
   "display_name": "Python 3 (ipykernel)",
   "language": "python",
   "name": "python3"
  },
  "language_info": {
   "codemirror_mode": {
    "name": "ipython",
    "version": 3
   },
   "file_extension": ".py",
   "mimetype": "text/x-python",
   "name": "python",
   "nbconvert_exporter": "python",
   "pygments_lexer": "ipython3",
   "version": "3.9.6"
  }
 },
 "nbformat": 4,
 "nbformat_minor": 5
}
