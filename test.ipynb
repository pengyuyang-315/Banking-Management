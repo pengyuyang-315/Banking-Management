{
 "cells": [
  {
   "cell_type": "code",
   "execution_count": 1,
   "id": "1d0967c3",
   "metadata": {},
   "outputs": [
    {
     "name": "stdout",
     "output_type": "stream",
     "text": [
      "initializing bank_management\n",
      "Initializing the 'user' package.\n"
     ]
    }
   ],
   "source": [
    "from bank_management import start"
   ]
  },
  {
   "cell_type": "code",
   "execution_count": 4,
   "id": "c1cdb3a5",
   "metadata": {},
   "outputs": [
    {
     "name": "stdout",
     "output_type": "stream",
     "text": [
      "Welcome to AZYY Bank\n",
      "基金管理员登录功能暂未实现。\n"
     ]
    }
   ],
   "source": [
    "start.main()\n"
   ]
  },
  {
   "cell_type": "code",
   "execution_count": null,
   "id": "77451c29",
   "metadata": {},
   "outputs": [],
   "source": []
  }
 ],
 "metadata": {
  "kernelspec": {
   "display_name": "Python 3 (ipykernel)",
   "language": "python",
   "name": "python3"
  },
  "language_info": {
   "codemirror_mode": {
    "name": "ipython",
    "version": 3
   },
   "file_extension": ".py",
   "mimetype": "text/x-python",
   "name": "python",
   "nbconvert_exporter": "python",
   "pygments_lexer": "ipython3",
   "version": "3.9.6"
  }
 },
 "nbformat": 4,
 "nbformat_minor": 5
}
