{
 "cells": [
  {
   "cell_type": "code",
   "execution_count": 4,
   "id": "1d0967c3",
   "metadata": {},
   "outputs": [],
   "source": [
    "from bank_management.user.client import client"
   ]
  },
  {
   "cell_type": "code",
   "execution_count": 2,
   "id": "c1cdb3a5",
   "metadata": {},
   "outputs": [
    {
     "name": "stdout",
     "output_type": "stream",
     "text": [
      "Billy\n",
      "billy@gmail.com\n",
      "123456\n",
      "2023-11-30 12:44:47.067444\n",
      "1000\n"
     ]
    }
   ],
   "source": [
    "c1 = client()\n"
   ]
  },
  {
   "cell_type": "code",
   "execution_count": null,
   "id": "77451c29",
   "metadata": {},
   "outputs": [],
   "source": []
  }
 ],
 "metadata": {
  "kernelspec": {
   "display_name": "Python 3 (ipykernel)",
   "language": "python",
   "name": "python3"
  },
  "language_info": {
   "codemirror_mode": {
    "name": "ipython",
    "version": 3
   },
   "file_extension": ".py",
   "mimetype": "text/x-python",
   "name": "python",
   "nbconvert_exporter": "python",
   "pygments_lexer": "ipython3",
   "version": "3.9.6"
  }
 },
 "nbformat": 4,
 "nbformat_minor": 5
}
