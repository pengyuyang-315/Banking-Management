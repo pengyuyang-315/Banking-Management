{
 "cells": [
  {
   "cell_type": "code",
   "execution_count": 9,
   "id": "1d0967c3",
   "metadata": {},
   "outputs": [],
   "source": [
    "from bank_management import start"
   ]
  },
  {
   "cell_type": "code",
   "execution_count": 10,
   "id": "c1cdb3a5",
   "metadata": {},
   "outputs": [
    {
     "name": "stdout",
     "output_type": "stream",
     "text": [
      "Welcome to AZYY Bank\n",
      "Bye!\n"
     ]
    }
   ],
   "source": [
    "start.main()\n"
   ]
  },
  {
   "cell_type": "code",
   "execution_count": 8,
   "id": "77451c29",
   "metadata": {},
   "outputs": [
    {
     "ename": "NameError",
     "evalue": "name '__file__' is not defined",
     "output_type": "error",
     "traceback": [
      "\u001b[0;31m---------------------------------------------------------------------------\u001b[0m",
      "\u001b[0;31mNameError\u001b[0m                                 Traceback (most recent call last)",
      "\u001b[1;32m/Users/pengyuyang/ubco_class/DATA-533/Banking-Management/test.ipynb 单元格 3\u001b[0m line \u001b[0;36m5\n\u001b[1;32m      <a href='vscode-notebook-cell:/Users/pengyuyang/ubco_class/DATA-533/Banking-Management/test.ipynb#W2sZmlsZQ%3D%3D?line=1'>2</a>\u001b[0m \u001b[39mimport\u001b[39;00m \u001b[39mos\u001b[39;00m\n\u001b[1;32m      <a href='vscode-notebook-cell:/Users/pengyuyang/ubco_class/DATA-533/Banking-Management/test.ipynb#W2sZmlsZQ%3D%3D?line=3'>4</a>\u001b[0m \u001b[39m# Add the project's root directory to the Python path\u001b[39;00m\n\u001b[0;32m----> <a href='vscode-notebook-cell:/Users/pengyuyang/ubco_class/DATA-533/Banking-Management/test.ipynb#W2sZmlsZQ%3D%3D?line=4'>5</a>\u001b[0m sys\u001b[39m.\u001b[39mpath\u001b[39m.\u001b[39mappend(os\u001b[39m.\u001b[39mpath\u001b[39m.\u001b[39mdirname(os\u001b[39m.\u001b[39mpath\u001b[39m.\u001b[39mdirname(os\u001b[39m.\u001b[39mpath\u001b[39m.\u001b[39mabspath(\u001b[39m__file__\u001b[39;49m))))\n\u001b[1;32m      <a href='vscode-notebook-cell:/Users/pengyuyang/ubco_class/DATA-533/Banking-Management/test.ipynb#W2sZmlsZQ%3D%3D?line=6'>7</a>\u001b[0m \u001b[39mfrom\u001b[39;00m \u001b[39mbank_management\u001b[39;00m \u001b[39mimport\u001b[39;00m user\n\u001b[1;32m      <a href='vscode-notebook-cell:/Users/pengyuyang/ubco_class/DATA-533/Banking-Management/test.ipynb#W2sZmlsZQ%3D%3D?line=7'>8</a>\u001b[0m ad \u001b[39m=\u001b[39m user\u001b[39m.\u001b[39madmin(\u001b[39m\"\u001b[39m\u001b[39madmin1\u001b[39m\u001b[39m\"\u001b[39m,\u001b[39m123\u001b[39m,\u001b[39m123456\u001b[39m)\n",
      "\u001b[0;31mNameError\u001b[0m: name '__file__' is not defined"
     ]
    }
   ],
   "source": [
    "\n",
    "\n"
   ]
  }
 ],
 "metadata": {
  "kernelspec": {
   "display_name": "Python 3.9.6 64-bit",
   "language": "python",
   "name": "python3"
  },
  "language_info": {
   "codemirror_mode": {
    "name": "ipython",
    "version": 3
   },
   "file_extension": ".py",
   "mimetype": "text/x-python",
   "name": "python",
   "nbconvert_exporter": "python",
   "pygments_lexer": "ipython3",
   "version": "3.9.6"
  },
  "vscode": {
   "interpreter": {
    "hash": "31f2aee4e71d21fbe5cf8b01ff0e069b9275f58929596ceb00d14d90e3e16cd6"
   }
  }
 },
 "nbformat": 4,
 "nbformat_minor": 5
}
