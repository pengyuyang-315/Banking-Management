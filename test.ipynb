{
 "cells": [
  {
   "cell_type": "code",
   "execution_count": 1,
   "id": "1d0967c3",
   "metadata": {},
   "outputs": [
    {
     "name": "stdout",
     "output_type": "stream",
     "text": [
      "initializing bank_management\n"
     ]
    },
    {
     "ename": "ModuleNotFoundError",
     "evalue": "No module named 'user'",
     "output_type": "error",
     "traceback": [
      "\u001b[0;31m---------------------------------------------------------------------------\u001b[0m",
      "\u001b[0;31mModuleNotFoundError\u001b[0m                       Traceback (most recent call last)",
      "\u001b[1;32m/Users/pengyuyang/ubco_class/DATA-533/Banking-Management/test.ipynb 单元格 1\u001b[0m line \u001b[0;36m1\n\u001b[0;32m----> <a href='vscode-notebook-cell:/Users/pengyuyang/ubco_class/DATA-533/Banking-Management/test.ipynb#W0sZmlsZQ%3D%3D?line=0'>1</a>\u001b[0m \u001b[39mfrom\u001b[39;00m \u001b[39mbank_management\u001b[39;00m \u001b[39mimport\u001b[39;00m start\n",
      "File \u001b[0;32m~/ubco_class/DATA-533/Banking-Management/bank_management/start.py:2\u001b[0m\n\u001b[1;32m      1\u001b[0m \u001b[39m# from .user.client import client\u001b[39;00m\n\u001b[0;32m----> 2\u001b[0m \u001b[39mfrom\u001b[39;00m \u001b[39muser\u001b[39;00m\u001b[39m.\u001b[39;00m\u001b[39mclient\u001b[39;00m \u001b[39mimport\u001b[39;00m new_user_registration\n\u001b[1;32m      3\u001b[0m \u001b[39mfrom\u001b[39;00m \u001b[39muser\u001b[39;00m\u001b[39m.\u001b[39;00m\u001b[39madmin\u001b[39;00m \u001b[39mimport\u001b[39;00m admin\n\u001b[1;32m      4\u001b[0m \u001b[39mfrom\u001b[39;00m \u001b[39muser\u001b[39;00m\u001b[39m.\u001b[39;00m\u001b[39mclient\u001b[39;00m \u001b[39mimport\u001b[39;00m client\n",
      "\u001b[0;31mModuleNotFoundError\u001b[0m: No module named 'user'"
     ]
    }
   ],
   "source": [
    "from bank_management import start"
   ]
  },
  {
   "cell_type": "code",
   "execution_count": 5,
   "id": "c1cdb3a5",
   "metadata": {},
   "outputs": [
    {
     "name": "stdout",
     "output_type": "stream",
     "text": [
      "Welcome to AZYY Bank\n",
      "Bye!\n"
     ]
    }
   ],
   "source": [
    "start.main()\n"
   ]
  },
  {
   "cell_type": "code",
   "execution_count": null,
   "id": "77451c29",
   "metadata": {},
   "outputs": [],
   "source": []
  }
 ],
 "metadata": {
  "kernelspec": {
   "display_name": "Python 3 (ipykernel)",
   "language": "python",
   "name": "python3"
  },
  "language_info": {
   "codemirror_mode": {
    "name": "ipython",
    "version": 3
   },
   "file_extension": ".py",
   "mimetype": "text/x-python",
   "name": "python",
   "nbconvert_exporter": "python",
   "pygments_lexer": "ipython3",
   "version": "3.9.6"
  }
 },
 "nbformat": 4,
 "nbformat_minor": 5
}
