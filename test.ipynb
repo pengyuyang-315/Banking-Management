{
 "cells": [
  {
   "cell_type": "code",
   "execution_count": 5,
   "id": "1d0967c3",
   "metadata": {},
   "outputs": [
    {
     "name": "stdout",
     "output_type": "stream",
     "text": [
      "Initializing the 'user' package.\n"
     ]
    },
    {
     "ename": "ModuleNotFoundError",
     "evalue": "No module named 'investment'",
     "output_type": "error",
     "traceback": [
      "\u001b[0;31m---------------------------------------------------------------------------\u001b[0m",
      "\u001b[0;31mModuleNotFoundError\u001b[0m                       Traceback (most recent call last)",
      "Cell \u001b[0;32mIn[1], line 1\u001b[0m\n\u001b[0;32m----> 1\u001b[0m \u001b[38;5;28;01mfrom\u001b[39;00m \u001b[38;5;21;01mbank_management\u001b[39;00m \u001b[38;5;28;01mimport\u001b[39;00m start\n",
      "File \u001b[0;32m~/Banking-Management/bank_management/start.py:14\u001b[0m\n\u001b[1;32m     12\u001b[0m \u001b[39mfrom\u001b[39;00m \u001b[39m.\u001b[39;00m\u001b[39minvestment\u001b[39;00m\u001b[39m.\u001b[39;00m\u001b[39minvestment\u001b[39;00m \u001b[39mimport\u001b[39;00m zero_coupon_bond\n\u001b[1;32m     13\u001b[0m \u001b[39mfrom\u001b[39;00m \u001b[39m.\u001b[39;00m\u001b[39minvestment\u001b[39;00m\u001b[39m.\u001b[39;00m\u001b[39minvestment\u001b[39;00m \u001b[39mimport\u001b[39;00m government_bond\n\u001b[0;32m---> 14\u001b[0m \u001b[39mfrom\u001b[39;00m \u001b[39m.\u001b[39;00m\u001b[39minvestment\u001b[39;00m\u001b[39m.\u001b[39;00m\u001b[39mmanage_investment\u001b[39;00m \u001b[39mimport\u001b[39;00m edit_rate\n\u001b[1;32m     15\u001b[0m \u001b[39mfrom\u001b[39;00m \u001b[39m.\u001b[39;00m\u001b[39minvestment\u001b[39;00m\u001b[39m.\u001b[39;00m\u001b[39mmanage_investment\u001b[39;00m \u001b[39mimport\u001b[39;00m edit_risk\n\u001b[1;32m     16\u001b[0m \u001b[39mfrom\u001b[39;00m \u001b[39m.\u001b[39;00m\u001b[39minvestment\u001b[39;00m\u001b[39m.\u001b[39;00m\u001b[39mmanage_investment\u001b[39;00m \u001b[39mimport\u001b[39;00m show_all_investment\n",
      "File \u001b[0;32m~/Banking-Management/bank_management/investment/manage_investment.py:1\u001b[0m\n\u001b[0;32m----> 1\u001b[0m \u001b[39mfrom\u001b[39;00m \u001b[39minvestment\u001b[39;00m \u001b[39mimport\u001b[39;00m investment\n\u001b[1;32m      2\u001b[0m \u001b[39mfrom\u001b[39;00m \u001b[39minvestment\u001b[39;00m \u001b[39mimport\u001b[39;00m mortgage\n\u001b[1;32m      3\u001b[0m \u001b[39mfrom\u001b[39;00m \u001b[39minvestment\u001b[39;00m \u001b[39mimport\u001b[39;00m zero_coupon_bond\n",
      "\u001b[0;31mModuleNotFoundError\u001b[0m: No module named 'investment'"
     ]
    }
   ],
   "source": [
    "from bank_management import start"
   ]
  },
  {
   "cell_type": "code",
   "execution_count": 4,
   "id": "c1cdb3a5",
   "metadata": {},
   "outputs": [
    {
     "name": "stdout",
     "output_type": "stream",
     "text": [
      "Welcome to AZYY Bank\n",
      "基金管理员登录功能暂未实现。\n"
     ]
    }
   ],
   "source": [
    "start.main()\n"
   ]
  },
  {
   "cell_type": "code",
   "execution_count": null,
   "id": "77451c29",
   "metadata": {},
   "outputs": [],
   "source": []
  }
 ],
 "metadata": {
  "kernelspec": {
   "display_name": "Python 3.9.6 64-bit",
   "language": "python",
   "name": "python3"
  },
  "language_info": {
   "codemirror_mode": {
    "name": "ipython",
    "version": 3
   },
   "file_extension": ".py",
   "mimetype": "text/x-python",
   "name": "python",
   "nbconvert_exporter": "python",
   "pygments_lexer": "ipython3",
   "version": "3.9.6"
  },
  "vscode": {
   "interpreter": {
    "hash": "31f2aee4e71d21fbe5cf8b01ff0e069b9275f58929596ceb00d14d90e3e16cd6"
   }
  }
 },
 "nbformat": 4,
 "nbformat_minor": 5
}
